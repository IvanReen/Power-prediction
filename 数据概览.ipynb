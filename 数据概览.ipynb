{
 "cells": [
  {
   "cell_type": "code",
   "execution_count": 2,
   "metadata": {},
   "outputs": [
    {
     "name": "stdout",
     "output_type": "stream",
     "text": [
      "前五个数据\n",
      "        AP     AT      PE     RH      V\n",
      "0       AP     AT      PE     RH      V\n",
      "1  1024.07  14.96  463.26  73.17  41.76\n",
      "2  1020.04  25.18  444.37  59.08  62.96\n",
      "3  1012.16   5.11  488.56  92.14   39.4\n",
      "4  1010.24  20.86  446.48  76.64  57.32\n",
      "简单统计描述\n",
      "              AP        AT       PE        RH         V\n",
      "count   47845.00  47845.00  47845.0  47845.00  47845.00\n",
      "unique   2518.00   2774.00   4837.0   4547.00    635.00\n",
      "top      1013.88     25.21    468.8    100.09     41.17\n",
      "freq       80.00     70.00     45.0    130.00    305.00\n",
      "协方差矩阵\n",
      "Empty DataFrame\n",
      "Columns: []\n",
      "Index: []\n",
      "相关系数矩阵\n",
      "Empty DataFrame\n",
      "Columns: []\n",
      "Index: []\n"
     ]
    }
   ],
   "source": [
    "import xlrd\n",
    "import pandas as pd\n",
    "\n",
    "def getData():\n",
    "    data = xlrd.open_workbook('./CCPP/Folds5x2_pp.xlsx')\n",
    "\n",
    "    sheet1 = data.sheet_by_name('Sheet1')\n",
    "    sheet2 = data.sheet_by_name('Sheet2')\n",
    "    sheet3 = data.sheet_by_name('Sheet3')\n",
    "    sheet4 = data.sheet_by_name('Sheet4')\n",
    "    sheet5 = data.sheet_by_name('Sheet5')\n",
    "\n",
    "    AT_tran = sheet1.col_values(0) + sheet2.col_values(0) + sheet3.col_values(0)  + sheet4.col_values(0) + sheet5.col_values(0)\n",
    "    V_tran = sheet1.col_values(1) + sheet2.col_values(1) + sheet3.col_values(1) + sheet4.col_values(1) + sheet5.col_values(1)\n",
    "    AP_tran = sheet1.col_values(2) + sheet2.col_values(2) + sheet3.col_values(2) + sheet4.col_values(2) + sheet5.col_values(2)\n",
    "    RH_tran = sheet1.col_values(3) + sheet2.col_values(3) + sheet3.col_values(3)  + sheet4.col_values(3) + sheet5.col_values(3)\n",
    "    PE_tran = sheet1.col_values(4) + sheet2.col_values(4) + sheet3.col_values(4)  + sheet4.col_values(4) +  sheet5.col_values(4)\n",
    "\n",
    "    tran = {'AT':AT_tran,'V':V_tran,'AP':AP_tran,'RH':RH_tran,'PE':PE_tran}\n",
    "\n",
    "    return tran\n",
    "\n",
    "tran  = getData()\n",
    "\n",
    "#将数据转换成数据框的格式\n",
    "df2 = pd.DataFrame({'AT':tran['AT'], 'V':tran['V'], 'AP':tran['AP'], 'RH':tran['RH'], 'PE':tran['PE']})\n",
    "\n",
    "print(\"前五个数据\")\n",
    "print(df2.head())\n",
    "\n",
    "print(\"简单统计描述\")\n",
    "print(df2.describe())\n",
    "\n",
    "print(\"协方差矩阵\")\n",
    "print(df2.cov())\n",
    "\n",
    "print(\"相关系数矩阵\")\n",
    "print(df2.corr())"
   ]
  },
  {
   "cell_type": "code",
   "execution_count": null,
   "metadata": {
    "collapsed": true
   },
   "outputs": [],
   "source": []
  }
 ],
 "metadata": {
  "kernelspec": {
   "display_name": "Python 3",
   "language": "python",
   "name": "python3"
  },
  "language_info": {
   "codemirror_mode": {
    "name": "ipython",
    "version": 3
   },
   "file_extension": ".py",
   "mimetype": "text/x-python",
   "name": "python",
   "nbconvert_exporter": "python",
   "pygments_lexer": "ipython3",
   "version": "3.6.3"
  }
 },
 "nbformat": 4,
 "nbformat_minor": 2
}
